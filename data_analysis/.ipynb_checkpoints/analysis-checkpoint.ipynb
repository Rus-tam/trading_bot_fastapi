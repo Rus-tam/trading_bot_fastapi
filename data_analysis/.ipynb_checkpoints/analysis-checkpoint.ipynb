{
 "cells": [
  {
   "cell_type": "code",
   "execution_count": 18,
   "id": "9c35aa57-b17a-4789-aeee-99b760b4e190",
   "metadata": {},
   "outputs": [],
   "source": [
    "import pandas as pd\n",
    "import numpy as np\n",
    "import httpx\n",
    "from datetime import datetime"
   ]
  },
  {
   "cell_type": "markdown",
   "id": "3bcbfcd6-5840-4bf0-b8e3-62d2c13678a8",
   "metadata": {},
   "source": [
    "# Функции"
   ]
  },
  {
   "cell_type": "markdown",
   "id": "9767e148-442b-490e-a08c-7d3425c32f4d",
   "metadata": {},
   "source": [
    "## Функция для получения данных"
   ]
  },
  {
   "cell_type": "code",
   "execution_count": 39,
   "id": "64ddd461-a88d-438f-8ecf-5fe5a035fcd1",
   "metadata": {},
   "outputs": [],
   "source": [
    "async def fetch_bybit_data(url, params):\n",
    "    async with httpx.AsyncClient() as client:\n",
    "        try:\n",
    "            response = await client.get(url, params=params, timeout=10.0)\n",
    "            response.raise_for_status()\n",
    "            result = response.json()\n",
    "            return result[\"result\"]\n",
    "\n",
    "        except httpx.RequestError as e:\n",
    "            return {\"error\": f\"Request failed: {str(e)}\"}\n",
    "        except httpx.HTTPStatusError as e:\n",
    "            return {\"error\": f\"HTTP error: {str(e)}\"}"
   ]
  },
  {
   "cell_type": "markdown",
   "id": "71dde6c5-b664-4306-8d4a-eb0b440987b3",
   "metadata": {},
   "source": [
    "## Функция для получения данных по свечам"
   ]
  },
  {
   "cell_type": "code",
   "execution_count": 40,
   "id": "8eab41c2-3fdc-45ea-a7a5-b02e917e668d",
   "metadata": {},
   "outputs": [],
   "source": [
    "async def get_kline(url,  symbol = \"BTCUSDT\", interval = \"1\", limit = 25):\n",
    "    params = {\n",
    "        \"category\": \"spot\",\n",
    "        \"symbol\": symbol,\n",
    "        \"interval\": interval,\n",
    "        \"limit\": limit,\n",
    "    }\n",
    "    data = await fetch_bybit_data(url, params)\n",
    "\n",
    "    return data"
   ]
  },
  {
   "cell_type": "markdown",
   "id": "6db98096-82ab-4d3a-b5bb-990d9048e4bb",
   "metadata": {},
   "source": [
    "## Функция для приведения данных о свечах к единному формату"
   ]
  },
  {
   "cell_type": "code",
   "execution_count": 41,
   "id": "3de2e203-ea93-436f-a26f-89e513a590b3",
   "metadata": {},
   "outputs": [],
   "source": [
    "def format_kline_data(data):\n",
    "    formatted_list = []\n",
    "    list = data[\"list\"]\n",
    "\n",
    "    for elem in list:\n",
    "        formatted_list.append(\n",
    "            {\n",
    "                \"time\": datetime.fromtimestamp(int(elem[0]) / 1000).strftime(\n",
    "                    \"%d-%m-%Y %H:%M:%S\"\n",
    "                ),\n",
    "                \"open\": float(elem[1]),\n",
    "                \"high\": float(elem[2]),\n",
    "                \"low\": float(elem[3]),\n",
    "                \"close\": float(elem[4]),\n",
    "                \"volume\": float(elem[5]),\n",
    "                \"turnover\": float(elem[6]),\n",
    "            }\n",
    "        )\n",
    "\n",
    "    return formatted_list"
   ]
  },
  {
   "cell_type": "markdown",
   "id": "883bcf1e-4d48-4f1a-9a75-3ad2976db883",
   "metadata": {},
   "source": [
    "## Функция для формирования датафрейма"
   ]
  },
  {
   "cell_type": "code",
   "execution_count": 42,
   "id": "c54c4478-dd4c-477d-84e7-4ea0a608f475",
   "metadata": {},
   "outputs": [],
   "source": [
    "def make_dataframe(data):\n",
    "    dataframes = []\n",
    "\n",
    "    for elem in data:\n",
    "        elem[\"open\"] = float(elem[\"open\"])\n",
    "        elem[\"close\"] = float(elem[\"close\"])\n",
    "        elem[\"high\"] = float(elem[\"high\"])\n",
    "        elem[\"low\"] = float(elem[\"low\"])\n",
    "        elem[\"volume\"] = float(elem[\"volume\"])\n",
    "        dataframes.append(pd.DataFrame(elem, index=[0]))\n",
    "\n",
    "    initial_df = pd.concat(dataframes, ignore_index=True)\n",
    "\n",
    "    df = initial_df.iloc[::-1].reset_index(drop=True)\n",
    "\n",
    "    return df"
   ]
  },
  {
   "cell_type": "markdown",
   "id": "262236a5-88a6-4cb6-84f4-8b9f56a81eb4",
   "metadata": {},
   "source": [
    "## Функция для расчета осцилятора Чайкина"
   ]
  },
  {
   "cell_type": "code",
   "execution_count": 43,
   "id": "0e6964dd-54e7-47ab-8aa1-e9ce6cfbbc66",
   "metadata": {},
   "outputs": [],
   "source": [
    "def chaikin_osc(df):\n",
    "        # 1. Рассчитать Money Flow Multiplier\n",
    "    df[\"mf_multiplier\"] = ((df[\"close\"] - df[\"low\"]) - (df[\"high\"] - df[\"close\"])) / (df[\"high\"] - df[\"low\"])\n",
    "\n",
    "    # 2. Рассчитать Money Flow Volume\n",
    "    df[\"mf_volume\"] = df[\"mf_multiplier\"] * df[\"volume\"]\n",
    "\n",
    "    # 3. Рассчитать ADL\n",
    "    df[\"adl\"] = df[\"mf_volume\"].cumsum()\n",
    "\n",
    "    # 4. Рассчитать EMA для short и long периодов\n",
    "    short_period = 3\n",
    "    long_period = 10\n",
    "\n",
    "    df[\"ema_short\"] = df[\"adl\"].ewm(span=short_period, adjust=False).mean()\n",
    "    df[\"ema_long\"] = df[\"adl\"].ewm(span=long_period, adjust=False).mean()\n",
    "\n",
    "    # 5. Рассчитать Chaikin Oscillator\n",
    "    df[\"chaikin_osc\"] = df[\"ema_short\"] - df[\"ema_long\"]\n",
    "\n",
    "    return df"
   ]
  },
  {
   "cell_type": "markdown",
   "id": "27a34321-fc9a-47b1-a1e0-602d6fbe34f9",
   "metadata": {},
   "source": [
    "## Функция для расчета RSI"
   ]
  },
  {
   "cell_type": "code",
   "execution_count": 44,
   "id": "1b8cb7dc-b3da-4101-969f-7ed9d1cd5b51",
   "metadata": {},
   "outputs": [],
   "source": [
    "def rsi(df, period):\n",
    "    df[\"delta\"] = df[\"close\"].diff()  # Разница между текущей и предыдущей ценой закрытия\n",
    "\n",
    "    df[\"gain\"] = df[\"delta\"].where(df[\"delta\"] > 0, 0)  # Приросты (положительные изменения)\n",
    "    df[\"loss\"] = -df[\"delta\"].where(df[\"delta\"] < 0, 0)  # Потери (отрицательные изменения)\n",
    "\n",
    "    # Скользящее среднее приростов и потерь\n",
    "    df[\"avg_gain\"] = df[\"gain\"].rolling(window=period, min_periods=1).mean()\n",
    "    df[\"avg_loss\"] = df[\"loss\"].rolling(window=period, min_periods=1).mean()\n",
    "\n",
    "    # Отношение приростов к потерям\n",
    "    df[\"rs\"] = df[\"avg_gain\"] / df[\"avg_loss\"]\n",
    "    df[\"RSI\"] = 100 - (100 / (1 + df[\"rs\"]))  # Формула RSI\n",
    "\n",
    "    return df"
   ]
  },
  {
   "cell_type": "markdown",
   "id": "5d35269b-e4e7-43fe-bca0-9a11a8492e73",
   "metadata": {},
   "source": [
    "# Bybit"
   ]
  },
  {
   "cell_type": "markdown",
   "id": "b0e80be3-ca82-47f9-8891-bdecc886f9e9",
   "metadata": {},
   "source": [
    "## Получаем данные по свечам"
   ]
  },
  {
   "cell_type": "code",
   "execution_count": 47,
   "id": "4ac7b048-fbac-4a96-be1d-89926338f285",
   "metadata": {},
   "outputs": [
    {
     "name": "stdout",
     "output_type": "stream",
     "text": [
      "                    time       open      close     volume  chaikin_osc         RSI\n",
      "0    18-12-2024 21:32:00  103885.11  103772.14  30.350693     0.000000         NaN\n",
      "1    18-12-2024 21:33:00  103772.14  103893.89  23.793049     3.765318  100.000000\n",
      "2    18-12-2024 21:34:00  103893.89  103838.94  27.349745     0.570483   68.902094\n",
      "3    18-12-2024 21:35:00  103838.94  103766.89  40.026499    -3.121662   48.944724\n",
      "4    18-12-2024 21:36:00  103766.89  103960.85  18.882153     1.659660   71.313049\n",
      "..                   ...        ...        ...        ...          ...         ...\n",
      "995  19-12-2024 14:07:00  101783.44  101800.56  18.763788    13.589679   66.903472\n",
      "996  19-12-2024 14:08:00  101800.56  101764.40  15.971654    11.690541   57.629939\n",
      "997  19-12-2024 14:09:00  101764.40  101753.69  13.379272     8.305311   56.744117\n",
      "998  19-12-2024 14:10:00  101753.69  101718.34  16.210787     3.457401   52.437581\n",
      "999  19-12-2024 14:11:00  101718.34  101759.60  15.047189     2.361307   59.496303\n",
      "\n",
      "[1000 rows x 6 columns]\n"
     ]
    }
   ],
   "source": [
    "url = \"https://api.bybit.com/v5/market/kline\"\n",
    "\n",
    "kline_data = await get_kline(url, symbol=\"BTCUSDT\", interval=1, limit=1000)\n",
    "klines = format_kline_data(kline_data)\n",
    "\n",
    "klines_df_0 = make_dataframe(klines)\n",
    "\n",
    "klines_df_1 = chaikin_osc(klines_df_0)\n",
    "\n",
    "klines_df_2 = rsi(klines_df_1, period=14)\n",
    "\n",
    "# Настройка отображения\n",
    "pd.set_option('display.max_columns', None)  # Показывать все столбцы\n",
    "pd.set_option('display.width', 0)          # Не ограничивать ширину строки\n",
    "pd.set_option('display.expand_frame_repr', False)\n",
    "\n",
    "\n",
    "print(klines_df_2[[\"time\", \"open\", \"close\", \"volume\", \"chaikin_osc\", \"RSI\"]])"
   ]
  },
  {
   "cell_type": "code",
   "execution_count": null,
   "id": "a01ae293-caf5-449d-b3fe-557a535adf55",
   "metadata": {},
   "outputs": [],
   "source": []
  }
 ],
 "metadata": {
  "kernelspec": {
   "display_name": "Python 3 (ipykernel)",
   "language": "python",
   "name": "python3"
  },
  "language_info": {
   "codemirror_mode": {
    "name": "ipython",
    "version": 3
   },
   "file_extension": ".py",
   "mimetype": "text/x-python",
   "name": "python",
   "nbconvert_exporter": "python",
   "pygments_lexer": "ipython3",
   "version": "3.11.0"
  }
 },
 "nbformat": 4,
 "nbformat_minor": 5
}
