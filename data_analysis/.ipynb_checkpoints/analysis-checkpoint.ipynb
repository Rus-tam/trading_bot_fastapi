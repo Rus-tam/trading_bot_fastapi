{
 "cells": [
  {
   "cell_type": "code",
   "execution_count": 1,
   "id": "9c35aa57-b17a-4789-aeee-99b760b4e190",
   "metadata": {},
   "outputs": [],
   "source": [
    "import pandas as pd\n",
    "import numpy as np\n",
    "import httpx"
   ]
  },
  {
   "cell_type": "markdown",
   "id": "3bcbfcd6-5840-4bf0-b8e3-62d2c13678a8",
   "metadata": {},
   "source": [
    "# Функции"
   ]
  },
  {
   "cell_type": "markdown",
   "id": "9767e148-442b-490e-a08c-7d3425c32f4d",
   "metadata": {},
   "source": [
    "## Функция для получения данных"
   ]
  },
  {
   "cell_type": "code",
   "execution_count": 8,
   "id": "64ddd461-a88d-438f-8ecf-5fe5a035fcd1",
   "metadata": {},
   "outputs": [],
   "source": [
    "async def fetch_bybit_data(url, params):\n",
    "    async with httpx.AsyncClient() as client:\n",
    "        try:\n",
    "            response = await client.get(url, params=params, timeout=10.0)\n",
    "            response.raise_for_status()\n",
    "            result = response.json()\n",
    "            return result[\"result\"]\n",
    "\n",
    "        except httpx.RequestError as e:\n",
    "            return {\"error\": f\"Request failed: {str(e)}\"}\n",
    "        except httpx.HTTPStatusError as e:\n",
    "            return {\"error\": f\"HTTP error: {str(e)}\"}"
   ]
  },
  {
   "cell_type": "markdown",
   "id": "71dde6c5-b664-4306-8d4a-eb0b440987b3",
   "metadata": {},
   "source": [
    "## Функция для получения данных по свечам"
   ]
  },
  {
   "cell_type": "code",
   "execution_count": 10,
   "id": "8eab41c2-3fdc-45ea-a7a5-b02e917e668d",
   "metadata": {},
   "outputs": [],
   "source": [
    "async def get_kline(url,  symbol = \"BTCUSDT\", interval = \"1\", limit = 25):\n",
    "    params = {\n",
    "        \"category\": \"spot\",\n",
    "        \"symbol\": symbol,\n",
    "        \"interval\": interval,\n",
    "        \"limit\": limit,\n",
    "    }\n",
    "    data = await fetch_bybit_data(url, params)\n",
    "\n",
    "    return data"
   ]
  },
  {
   "cell_type": "markdown",
   "id": "6db98096-82ab-4d3a-b5bb-990d9048e4bb",
   "metadata": {},
   "source": [
    "## Функция для приведения данных о свечах к единному формату"
   ]
  },
  {
   "cell_type": "code",
   "execution_count": 11,
   "id": "3de2e203-ea93-436f-a26f-89e513a590b3",
   "metadata": {},
   "outputs": [],
   "source": [
    "def format_kline_data(data):\n",
    "    formatted_list = []\n",
    "    list = data[\"list\"]\n",
    "\n",
    "    for elem in list:\n",
    "        formatted_list.append(\n",
    "            {\n",
    "                \"time\": datetime.fromtimestamp(int(elem[0]) / 1000).strftime(\n",
    "                    \"%d-%m-%Y %H:%M:%S\"\n",
    "                ),\n",
    "                \"open\": float(elem[1]),\n",
    "                \"high\": float(elem[2]),\n",
    "                \"low\": float(elem[3]),\n",
    "                \"close\": float(elem[4]),\n",
    "                \"volume\": float(elem[5]),\n",
    "                \"turnover\": float(elem[6]),\n",
    "            }\n",
    "        )\n",
    "\n",
    "    return formatted_list"
   ]
  },
  {
   "cell_type": "markdown",
   "id": "5d35269b-e4e7-43fe-bca0-9a11a8492e73",
   "metadata": {},
   "source": [
    "# Bybit"
   ]
  },
  {
   "cell_type": "markdown",
   "id": "b0e80be3-ca82-47f9-8891-bdecc886f9e9",
   "metadata": {},
   "source": [
    "## Получаем данные по свечам"
   ]
  },
  {
   "cell_type": "code",
   "execution_count": 13,
   "id": "4ac7b048-fbac-4a96-be1d-89926338f285",
   "metadata": {},
   "outputs": [],
   "source": [
    "url = \"https://api.bybit.com/v5/market/kline\"\n",
    "\n",
    "kline_data = await get_kline(url, symbol=\"BTCUSDT\", interval=1, limit=1000)\n",
    "kline_data"
   ]
  },
  {
   "cell_type": "code",
   "execution_count": null,
   "id": "a01ae293-caf5-449d-b3fe-557a535adf55",
   "metadata": {},
   "outputs": [],
   "source": []
  }
 ],
 "metadata": {
  "kernelspec": {
   "display_name": "Python 3 (ipykernel)",
   "language": "python",
   "name": "python3"
  },
  "language_info": {
   "codemirror_mode": {
    "name": "ipython",
    "version": 3
   },
   "file_extension": ".py",
   "mimetype": "text/x-python",
   "name": "python",
   "nbconvert_exporter": "python",
   "pygments_lexer": "ipython3",
   "version": "3.11.0"
  }
 },
 "nbformat": 4,
 "nbformat_minor": 5
}
